{
 "cells": [
  {
   "cell_type": "markdown",
   "metadata": {},
   "source": [
    "# Toronto Dwellings Analysis Dashboard\n",
    "\n",
    "In this notebook, you will compile the visualizations from the previous analysis into functions to create a Panel dashboard."
   ]
  },
  {
   "cell_type": "code",
   "execution_count": 64,
   "metadata": {},
   "outputs": [],
   "source": [
    "# imports\n",
    "import panel as pn\n",
    "pn.extension('plotly')\n",
    "import plotly.express as px\n",
    "import pandas as pd\n",
    "import hvplot.pandas\n",
    "import matplotlib.pyplot as plt\n",
    "import os\n",
    "from pathlib import Path\n",
    "from dotenv import load_dotenv"
   ]
  },
  {
   "cell_type": "code",
   "execution_count": 65,
   "metadata": {},
   "outputs": [],
   "source": [
    "# Initialize the Panel Extensions (for Plotly)\n",
    "import panel as pn\n",
    "pn.extension(\"plotly\")"
   ]
  },
  {
   "cell_type": "code",
   "execution_count": 66,
   "metadata": {},
   "outputs": [],
   "source": [
    "# Read the Mapbox API key\n",
    "load_dotenv()\n",
    "map_box_api = os.getenv(\"mapbox\")\n",
    "px.set_mapbox_access_token(map_box_api)"
   ]
  },
  {
   "cell_type": "markdown",
   "metadata": {},
   "source": [
    "# Import Data"
   ]
  },
  {
   "cell_type": "code",
   "execution_count": 67,
   "metadata": {},
   "outputs": [],
   "source": [
    "# Import the CSVs to Pandas DataFrames\n",
    "file_path = Path(\"Data/toronto_neighbourhoods_census_data.csv\")\n",
    "to_data = pd.read_csv(file_path, index_col=\"year\")\n",
    "\n",
    "file_path = Path(\"Data/toronto_neighbourhoods_coordinates.csv\")\n",
    "df_neighbourhood_locations = pd.read_csv(file_path)\n",
    "\n",
    "file_path = Path()"
   ]
  },
  {
   "cell_type": "markdown",
   "metadata": {},
   "source": [
    "- - -"
   ]
  },
  {
   "cell_type": "markdown",
   "metadata": {},
   "source": [
    "## Panel Visualizations\n",
    "\n",
    "In this section, you will copy the code for each plot type from your analysis notebook and place it into separate functions that Panel can use to create panes for the dashboard. \n",
    "\n",
    "These functions will convert the plot object to a Panel pane.\n",
    "\n",
    "Be sure to include any DataFrame transformation/manipulation code required along with the plotting code.\n",
    "\n",
    "Return a Panel pane object from each function that can be used to build the dashboard.\n",
    "\n",
    "Note: Remove any `.show()` lines from the code. We want to return the plots instead of showing them. The Panel dashboard will then display the plots."
   ]
  },
  {
   "cell_type": "markdown",
   "metadata": {},
   "source": [
    "### Global available data"
   ]
  },
  {
   "cell_type": "code",
   "execution_count": 68,
   "metadata": {},
   "outputs": [],
   "source": [
    "# Calculate the average monthly shelter costs for owned and rented dwellings\n",
    "average_costs = to_data[[\"shelter_costs_owned\", \"shelter_costs_rented\"]].groupby(\"year\").mean()\n",
    "\n",
    "# Calculate the average house value per year\n",
    "average_house_value_yearly = to_data[[\"average_house_value\"]].groupby(\"year\").mean()\n",
    "\n",
    "##Average house value by neighbourhood\n",
    "# Create a new DataFrame with the mean house values by neighbourhood per year\n",
    "df_avg_house_values_neighbourhood = pd.DataFrame(to_data,columns=[\"neighbourhood\", \"average_house_value\"]).groupby([\"year\",\"neighbourhood\"]).mean().reset_index()\n",
    "df_avg_house_values_neighbourhood = df_avg_house_values_neighbourhood.set_index(\"year\")\n",
    "\n",
    "# Create a new DataFrame with the mean house values by neighbourhood per year\n",
    "sum_dwellings = to_data.groupby(\"year\").sum()\n",
    "sum_dwellings_by_year = sum_dwellings.drop(columns=[\"average_house_value\", \"shelter_costs_owned\", \"shelter_costs_rented\"])\n",
    "sum_dwellings_by_year\n",
    "\n",
    "##Number of Dwelling types per year\n",
    "# Fetch the data of all dwelling types per year\n",
    "df_avg_number_of_dwelling_year = pd.DataFrame(to_data).drop(columns=[\"average_house_value\",\"shelter_costs_owned\", \"shelter_costs_rented\"]).groupby([\"year\",\"neighbourhood\"]).mean().reset_index()\n",
    "\n",
    "# Calculate the average monthly shelter costs for owned and rented dwellings\n",
    "avg_owned_cost = to_data[[\"shelter_costs_owned\"]].groupby(\"year\").mean()\n",
    "avg_rented_cost = to_data[[\"shelter_costs_rented\"]].groupby(\"year\").mean()\n",
    "\n",
    "\n",
    "##The Top 10 Most Expensive Neighbourhoods\n",
    "# Getting the data from the top 10 expensive neighbourhoods\n",
    "df_avg_house_by_neighbourhoods = pd.DataFrame(to_data).groupby([\"neighbourhood\"]).mean()\n",
    "df_avg_house_value_top10 = df_avg_house_by_neighbourhoods.sort_values(by=\"average_house_value\", ascending=False).nlargest(10, \"average_house_value\")\n",
    "\n",
    "\n",
    "\n",
    "##Neighbourhood MAP\n",
    "# Load neighbourhoods coordinates data\n",
    "file_path = Path(\"Data/toronto_neighbourhoods_coordinates.csv\")\n",
    "df_neighbourhood_locations = pd.read_csv(file_path)\n",
    "\n",
    "# Calculate the mean values for each neighborhood\n",
    "df_mean_of_neighborhood = pd.DataFrame(to_data).groupby([\"neighbourhood\"]).mean().reset_index()\n",
    "\n",
    "# Join the average values with the neighbourhood locations\n",
    "avg_val_with_loc = pd.merge(df_neighbourhood_locations, df_mean_of_neighborhood, on=\"neighbourhood\")\n",
    "\n",
    "\n",
    "\n",
    "##Cost Analysis\n",
    "# Create a new DataFrame with the avg house values by neighbourhood per year\n",
    "yearly_neighbourhood_value = to_data[[\"average_house_value\", \"neighbourhood\"]].groupby([\"neighbourhood\", \"year\"]).mean().reset_index()\n",
    "\n",
    "\n",
    "\n",
    "##Sunburst Chart Data\n",
    "# Top 10 most expensive 2001\n",
    "most_expensive = to_data[[\"average_house_value\", \"neighbourhood\", \"shelter_costs_owned\"]]\n",
    "top_10_expensive_2001 = most_expensive.loc[2001].sort_values(by=\"average_house_value\", ascending=False).iloc[:10]\n",
    "\n",
    "# Top 10 most expensive 2006\n",
    "top_10_expensive_2006 = most_expensive.loc[2006].sort_values(by=\"average_house_value\", ascending=False).iloc[:10]\n",
    "\n",
    "# Top 10 most expensive 2011\n",
    "top_10_expensive_2011 = most_expensive.loc[2011].sort_values(by=\"average_house_value\", ascending=False).iloc[:10]\n",
    "\n",
    "# Top 10 most expensive 2016\n",
    "top_10_expensive_2016 = most_expensive.loc[2016].sort_values(by=\"average_house_value\", ascending=False).iloc[:10]\n",
    "\n",
    "# Combine Top 10 most expensive of all years\n",
    "top_10_expensive_all = pd.concat([top_10_expensive_2001, top_10_expensive_2006, top_10_expensive_2011, top_10_expensive_2016]).reset_index()\n",
    "\n",
    "\n"
   ]
  },
  {
   "cell_type": "markdown",
   "metadata": {},
   "source": [
    "### Panel Visualization Functions"
   ]
  },
  {
   "cell_type": "code",
   "execution_count": 69,
   "metadata": {},
   "outputs": [],
   "source": [
    "# Define Panel visualization functions\n",
    "def neighbourhood_map():\n",
    "    \"\"\"Neighbourhood Map\"\"\"\n",
    "   \n",
    "    neighbourhood_map_scatter = px.scatter_mapbox(\n",
    "    avg_val_with_loc,\n",
    "    lat=\"lat\",\n",
    "    lon=\"lon\",\n",
    "    color=\"average_house_value\",\n",
    "    size=\"average_house_value\",\n",
    "    color_continuous_scale=px.colors.sequential.Jet,\n",
    "    zoom = 10,\n",
    "    mapbox_style=\"open-street-map\",\n",
    "    height=500,\n",
    "    title=\"Average House Values in Toronto\"\n",
    ")\n",
    "    return neighbourhood_map_scatter\n",
    "\n",
    "def create_bar_chart(data, title, xlabel, ylabel, color):\n",
    "    \"\"\"\n",
    "    Create a barplot based in the data argument.\n",
    "    \"\"\"\n",
    "    \n",
    "    bar_chart = data.hvplot.bar(title=title , xlabel=xlabel, ylabel=ylabel, color=color, rot=90)\n",
    "    bar_chart.opts(height=400, yformatter=\"%.0f\")\n",
    "    return bar_chart\n",
    "\n",
    "def create_line_chart(data, title, xlabel, ylabel, color):\n",
    "    \"\"\"\n",
    "    Create a line chart based in the data argument.\n",
    "    \"\"\"\n",
    "    \n",
    "    line_chart = data.hvplot(title=title, xlabel=xlabel, ylabel=ylabel, color=color, yformatter=\"%.0f\")\n",
    "    line_chart.opts(height=400)\n",
    "    return line_chart\n",
    "\n",
    "def average_house_value():\n",
    "    \"\"\"Average house values per year.\"\"\"\n",
    "    \n",
    "    create_line_chart(average_house_value_yearly, \"Average House Value in Toronto\", \"Year\", \"Average House Value\", \"blue\")\n",
    "\n",
    "    return create_line_chart\n",
    "\n",
    "\n",
    "def average_value_by_neighbourhood():\n",
    "    \"\"\"Average house values by neighbourhood.\"\"\"\n",
    "    \n",
    "    plot_avg_house_value_neighbourhood = df_avg_house_values_neighbourhood.hvplot(y=\"average_house_value\", x=\"year\", groupby=\"neighbourhood\",yformatter=\"%.0f\", ylabel=\"Avg. House Value\")\n",
    "    \n",
    "    return plot_avg_house_value_neighbourhood \n",
    "\n",
    "def number_dwelling_types():\n",
    "    \"\"\"Number of dwelling types per year\"\"\"\n",
    "    \n",
    "    plot_number_of_dwelling = df_avg_number_of_dwelling_year.hvplot.bar(x=\"year\", groupby=\"neighbourhood\",yformatter=\"%.0f\", xlabel=\"Year\", ylabel=\"Dwelling Type Units\", rot=90, height=500)\n",
    "    \n",
    "    return plot_number_of_dwelling\n",
    "\n",
    "def average_house_value_snapshot():\n",
    "    \"\"\"Average house value for all Toronto's neighbourhoods per year.\"\"\"\n",
    "\n",
    "    neighbourhood_map_yearly = px.bar(\n",
    "    yearly_neighbourhood_value,\n",
    "    x=\"neighbourhood\",\n",
    "    y=\"average_house_value\",\n",
    "    facet_row=\"year\",\n",
    "    color=\"average_house_value\",\n",
    "    labels={\"neighbourhood\":\"Neighbourhood\", \"average_house_value\":\"Average House Value\"},\n",
    "    height=1000\n",
    ")\n",
    "    return neighbourhood_map_yearly\n",
    "\n",
    "def top_most_expensive_neighbourhoods():\n",
    "    \"\"\"Top 10 most expensive neighbourhoods.\"\"\"\n",
    "    \n",
    "    plot_avg_house_value_top10 = df_avg_house_value_top10.hvplot.bar(x=\"neighbourhood\", y=\"average_house_value\",yformatter=\"%.0f\", xlabel=\"Neighbourhood\", ylabel=\"Avg. House Value\", rot=90, height=500, title=\"Top 10 Expensive Neighbourhoods in Toronto\", color=\"purple\")\n",
    "\n",
    "    return plot_avg_house_value_top10\n",
    "\n",
    "def sunburts_cost_analysis():\n",
    "    \"\"\"Sunburst chart to conduct a costs analysis of most expensive neighbourhoods in Toronto per year.\"\"\"\n",
    "    \n",
    "    sunburst_chart = px.sunburst(\n",
    "    top_10_expensive_all,\n",
    "    path=[\"year\", \"neighbourhood\"],\n",
    "    values=\"average_house_value\",\n",
    "    names=\"neighbourhood\",\n",
    "    color=\"shelter_costs_owned\",\n",
    "    color_continuous_scale=\"balance\",\n",
    "    height=600,\n",
    "    title=\"Cost Analysis of Most Expensive Neighbourhoods in Toronto by Year\"\n",
    ")\n",
    "\n",
    "    return sunburst_chart"
   ]
  },
  {
   "cell_type": "markdown",
   "metadata": {},
   "source": [
    "## Panel Dashboard\n",
    "\n",
    "In this section, you will combine all of the plots into a single dashboard view using Panel. Be creative with your dashboard design!"
   ]
  },
  {
   "cell_type": "code",
   "execution_count": 70,
   "metadata": {},
   "outputs": [
    {
     "ename": "ValueError",
     "evalue": "cannot find widget or abbreviation for argument: 'data'",
     "output_type": "error",
     "traceback": [
      "\u001b[0;31m---------------------------------------------------------------------------\u001b[0m",
      "\u001b[0;31mValueError\u001b[0m                                Traceback (most recent call last)",
      "\u001b[0;32m/var/folders/sw/b_zvvxn52zv5n10dmvbj_jwm0000gn/T/ipykernel_23459/3391224215.py\u001b[0m in \u001b[0;36m<module>\u001b[0;34m\u001b[0m\n\u001b[1;32m     25\u001b[0m average_value_row = pn.Row(create_line_chart(avg_owned_cost, \"Average Monthly Shelter Cost for Owned Dwellings in Toronto\", \"Year\", \"Avg Monthly Shelter Costs\", \"blue\").opts(fontsize={\"title\":11}),\n\u001b[1;32m     26\u001b[0m                            create_line_chart(avg_rented_cost, \"Average Monthly Shelter Cost for Owned Dwellings in Toronto\", \"Year\", \"Avg Monthly Shelter Costs\", \"green\").opts(fontsize={\"title\":11}))\n\u001b[0;32m---> 27\u001b[0;31m \u001b[0maverage_value_column\u001b[0m \u001b[0;34m=\u001b[0m \u001b[0mpn\u001b[0m\u001b[0;34m.\u001b[0m\u001b[0mColumn\u001b[0m\u001b[0;34m(\u001b[0m\u001b[0maverage_value_row\u001b[0m\u001b[0;34m,\u001b[0m \u001b[0maverage_house_value\u001b[0m\u001b[0;34m(\u001b[0m\u001b[0;34m)\u001b[0m\u001b[0;34m)\u001b[0m\u001b[0;34m\u001b[0m\u001b[0;34m\u001b[0m\u001b[0m\n\u001b[0m\u001b[1;32m     28\u001b[0m \u001b[0;34m\u001b[0m\u001b[0m\n\u001b[1;32m     29\u001b[0m \u001b[0;31m# Neighbourhood rows and columns\u001b[0m\u001b[0;34m\u001b[0m\u001b[0;34m\u001b[0m\u001b[0;34m\u001b[0m\u001b[0m\n",
      "\u001b[0;32m~/opt/anaconda3/envs/pyvizenv/lib/python3.7/site-packages/panel/layout/base.py\u001b[0m in \u001b[0;36m__init__\u001b[0;34m(self, *objects, **params)\u001b[0m\n\u001b[1;32m    622\u001b[0m                                  \u001b[0;34m\"as positional arguments or as a keyword, \"\u001b[0m\u001b[0;34m\u001b[0m\u001b[0;34m\u001b[0m\u001b[0m\n\u001b[1;32m    623\u001b[0m                                  \"not both.\" % type(self).__name__)\n\u001b[0;32m--> 624\u001b[0;31m             \u001b[0mparams\u001b[0m\u001b[0;34m[\u001b[0m\u001b[0;34m'objects'\u001b[0m\u001b[0;34m]\u001b[0m \u001b[0;34m=\u001b[0m \u001b[0;34m[\u001b[0m\u001b[0mpanel\u001b[0m\u001b[0;34m(\u001b[0m\u001b[0mpane\u001b[0m\u001b[0;34m)\u001b[0m \u001b[0;32mfor\u001b[0m \u001b[0mpane\u001b[0m \u001b[0;32min\u001b[0m \u001b[0mobjects\u001b[0m\u001b[0;34m]\u001b[0m\u001b[0;34m\u001b[0m\u001b[0;34m\u001b[0m\u001b[0m\n\u001b[0m\u001b[1;32m    625\u001b[0m         \u001b[0;32melif\u001b[0m \u001b[0;34m'objects'\u001b[0m \u001b[0;32min\u001b[0m \u001b[0mparams\u001b[0m\u001b[0;34m:\u001b[0m\u001b[0;34m\u001b[0m\u001b[0;34m\u001b[0m\u001b[0m\n\u001b[1;32m    626\u001b[0m             \u001b[0mparams\u001b[0m\u001b[0;34m[\u001b[0m\u001b[0;34m'objects'\u001b[0m\u001b[0;34m]\u001b[0m \u001b[0;34m=\u001b[0m \u001b[0;34m[\u001b[0m\u001b[0mpanel\u001b[0m\u001b[0;34m(\u001b[0m\u001b[0mpane\u001b[0m\u001b[0;34m)\u001b[0m \u001b[0;32mfor\u001b[0m \u001b[0mpane\u001b[0m \u001b[0;32min\u001b[0m \u001b[0mparams\u001b[0m\u001b[0;34m[\u001b[0m\u001b[0;34m'objects'\u001b[0m\u001b[0;34m]\u001b[0m\u001b[0;34m]\u001b[0m\u001b[0;34m\u001b[0m\u001b[0;34m\u001b[0m\u001b[0m\n",
      "\u001b[0;32m~/opt/anaconda3/envs/pyvizenv/lib/python3.7/site-packages/panel/layout/base.py\u001b[0m in \u001b[0;36m<listcomp>\u001b[0;34m(.0)\u001b[0m\n\u001b[1;32m    622\u001b[0m                                  \u001b[0;34m\"as positional arguments or as a keyword, \"\u001b[0m\u001b[0;34m\u001b[0m\u001b[0;34m\u001b[0m\u001b[0m\n\u001b[1;32m    623\u001b[0m                                  \"not both.\" % type(self).__name__)\n\u001b[0;32m--> 624\u001b[0;31m             \u001b[0mparams\u001b[0m\u001b[0;34m[\u001b[0m\u001b[0;34m'objects'\u001b[0m\u001b[0;34m]\u001b[0m \u001b[0;34m=\u001b[0m \u001b[0;34m[\u001b[0m\u001b[0mpanel\u001b[0m\u001b[0;34m(\u001b[0m\u001b[0mpane\u001b[0m\u001b[0;34m)\u001b[0m \u001b[0;32mfor\u001b[0m \u001b[0mpane\u001b[0m \u001b[0;32min\u001b[0m \u001b[0mobjects\u001b[0m\u001b[0;34m]\u001b[0m\u001b[0;34m\u001b[0m\u001b[0;34m\u001b[0m\u001b[0m\n\u001b[0m\u001b[1;32m    625\u001b[0m         \u001b[0;32melif\u001b[0m \u001b[0;34m'objects'\u001b[0m \u001b[0;32min\u001b[0m \u001b[0mparams\u001b[0m\u001b[0;34m:\u001b[0m\u001b[0;34m\u001b[0m\u001b[0;34m\u001b[0m\u001b[0m\n\u001b[1;32m    626\u001b[0m             \u001b[0mparams\u001b[0m\u001b[0;34m[\u001b[0m\u001b[0;34m'objects'\u001b[0m\u001b[0;34m]\u001b[0m \u001b[0;34m=\u001b[0m \u001b[0;34m[\u001b[0m\u001b[0mpanel\u001b[0m\u001b[0;34m(\u001b[0m\u001b[0mpane\u001b[0m\u001b[0;34m)\u001b[0m \u001b[0;32mfor\u001b[0m \u001b[0mpane\u001b[0m \u001b[0;32min\u001b[0m \u001b[0mparams\u001b[0m\u001b[0;34m[\u001b[0m\u001b[0;34m'objects'\u001b[0m\u001b[0;34m]\u001b[0m\u001b[0;34m]\u001b[0m\u001b[0;34m\u001b[0m\u001b[0;34m\u001b[0m\u001b[0m\n",
      "\u001b[0;32m~/opt/anaconda3/envs/pyvizenv/lib/python3.7/site-packages/panel/pane/base.py\u001b[0m in \u001b[0;36mpanel\u001b[0;34m(obj, **kwargs)\u001b[0m\n\u001b[1;32m     52\u001b[0m     \u001b[0;32mif\u001b[0m \u001b[0mkwargs\u001b[0m\u001b[0;34m.\u001b[0m\u001b[0mget\u001b[0m\u001b[0;34m(\u001b[0m\u001b[0;34m'name'\u001b[0m\u001b[0;34m,\u001b[0m \u001b[0;32mFalse\u001b[0m\u001b[0;34m)\u001b[0m \u001b[0;32mis\u001b[0m \u001b[0;32mNone\u001b[0m\u001b[0;34m:\u001b[0m\u001b[0;34m\u001b[0m\u001b[0;34m\u001b[0m\u001b[0m\n\u001b[1;32m     53\u001b[0m         \u001b[0mkwargs\u001b[0m\u001b[0;34m.\u001b[0m\u001b[0mpop\u001b[0m\u001b[0;34m(\u001b[0m\u001b[0;34m'name'\u001b[0m\u001b[0;34m)\u001b[0m\u001b[0;34m\u001b[0m\u001b[0;34m\u001b[0m\u001b[0m\n\u001b[0;32m---> 54\u001b[0;31m     \u001b[0mpane\u001b[0m \u001b[0;34m=\u001b[0m \u001b[0mPaneBase\u001b[0m\u001b[0;34m.\u001b[0m\u001b[0mget_pane_type\u001b[0m\u001b[0;34m(\u001b[0m\u001b[0mobj\u001b[0m\u001b[0;34m,\u001b[0m \u001b[0;34m**\u001b[0m\u001b[0mkwargs\u001b[0m\u001b[0;34m)\u001b[0m\u001b[0;34m(\u001b[0m\u001b[0mobj\u001b[0m\u001b[0;34m,\u001b[0m \u001b[0;34m**\u001b[0m\u001b[0mkwargs\u001b[0m\u001b[0;34m)\u001b[0m\u001b[0;34m\u001b[0m\u001b[0;34m\u001b[0m\u001b[0m\n\u001b[0m\u001b[1;32m     55\u001b[0m     \u001b[0;32mif\u001b[0m \u001b[0mlen\u001b[0m\u001b[0;34m(\u001b[0m\u001b[0mpane\u001b[0m\u001b[0;34m.\u001b[0m\u001b[0mlayout\u001b[0m\u001b[0;34m)\u001b[0m \u001b[0;34m==\u001b[0m \u001b[0;36m1\u001b[0m \u001b[0;32mand\u001b[0m \u001b[0mpane\u001b[0m\u001b[0;34m.\u001b[0m\u001b[0m_unpack\u001b[0m\u001b[0;34m:\u001b[0m\u001b[0;34m\u001b[0m\u001b[0;34m\u001b[0m\u001b[0m\n\u001b[1;32m     56\u001b[0m         \u001b[0;32mreturn\u001b[0m \u001b[0mpane\u001b[0m\u001b[0;34m.\u001b[0m\u001b[0mlayout\u001b[0m\u001b[0;34m[\u001b[0m\u001b[0;36m0\u001b[0m\u001b[0;34m]\u001b[0m\u001b[0;34m\u001b[0m\u001b[0;34m\u001b[0m\u001b[0m\n",
      "\u001b[0;32m~/opt/anaconda3/envs/pyvizenv/lib/python3.7/site-packages/panel/interact.py\u001b[0m in \u001b[0;36m__init__\u001b[0;34m(self, object, params, **kwargs)\u001b[0m\n\u001b[1;32m    133\u001b[0m \u001b[0;34m\u001b[0m\u001b[0m\n\u001b[1;32m    134\u001b[0m         \u001b[0mself\u001b[0m\u001b[0;34m.\u001b[0m\u001b[0mthrottled\u001b[0m \u001b[0;34m=\u001b[0m \u001b[0mkwargs\u001b[0m\u001b[0;34m.\u001b[0m\u001b[0mpop\u001b[0m\u001b[0;34m(\u001b[0m\u001b[0;34m'throttled'\u001b[0m\u001b[0;34m,\u001b[0m \u001b[0;32mFalse\u001b[0m\u001b[0;34m)\u001b[0m\u001b[0;34m\u001b[0m\u001b[0;34m\u001b[0m\u001b[0m\n\u001b[0;32m--> 135\u001b[0;31m         \u001b[0mnew_kwargs\u001b[0m \u001b[0;34m=\u001b[0m \u001b[0mself\u001b[0m\u001b[0;34m.\u001b[0m\u001b[0mfind_abbreviations\u001b[0m\u001b[0;34m(\u001b[0m\u001b[0mkwargs\u001b[0m\u001b[0;34m)\u001b[0m\u001b[0;34m\u001b[0m\u001b[0;34m\u001b[0m\u001b[0m\n\u001b[0m\u001b[1;32m    136\u001b[0m         \u001b[0;31m# Before we proceed, let's make sure that the user has passed a set of args+kwargs\u001b[0m\u001b[0;34m\u001b[0m\u001b[0;34m\u001b[0m\u001b[0;34m\u001b[0m\u001b[0m\n\u001b[1;32m    137\u001b[0m         \u001b[0;31m# that will lead to a valid call of the function. This protects against unspecified\u001b[0m\u001b[0;34m\u001b[0m\u001b[0;34m\u001b[0m\u001b[0;34m\u001b[0m\u001b[0m\n",
      "\u001b[0;32m~/opt/anaconda3/envs/pyvizenv/lib/python3.7/site-packages/panel/interact.py\u001b[0m in \u001b[0;36mfind_abbreviations\u001b[0;34m(self, kwargs)\u001b[0m\n\u001b[1;32m    239\u001b[0m             \u001b[0;32mfor\u001b[0m \u001b[0mname\u001b[0m\u001b[0;34m,\u001b[0m \u001b[0mvalue\u001b[0m\u001b[0;34m,\u001b[0m \u001b[0mdefault\u001b[0m \u001b[0;32min\u001b[0m \u001b[0m_yield_abbreviations_for_parameter\u001b[0m\u001b[0;34m(\u001b[0m\u001b[0mparameter\u001b[0m\u001b[0;34m,\u001b[0m \u001b[0mkwargs\u001b[0m\u001b[0;34m)\u001b[0m\u001b[0;34m:\u001b[0m\u001b[0;34m\u001b[0m\u001b[0;34m\u001b[0m\u001b[0m\n\u001b[1;32m    240\u001b[0m                 \u001b[0;32mif\u001b[0m \u001b[0mvalue\u001b[0m \u001b[0;32mis\u001b[0m \u001b[0mempty\u001b[0m\u001b[0;34m:\u001b[0m\u001b[0;34m\u001b[0m\u001b[0;34m\u001b[0m\u001b[0m\n\u001b[0;32m--> 241\u001b[0;31m                     \u001b[0;32mraise\u001b[0m \u001b[0mValueError\u001b[0m\u001b[0;34m(\u001b[0m\u001b[0;34m'cannot find widget or abbreviation for argument: {!r}'\u001b[0m\u001b[0;34m.\u001b[0m\u001b[0mformat\u001b[0m\u001b[0;34m(\u001b[0m\u001b[0mname\u001b[0m\u001b[0;34m)\u001b[0m\u001b[0;34m)\u001b[0m\u001b[0;34m\u001b[0m\u001b[0;34m\u001b[0m\u001b[0m\n\u001b[0m\u001b[1;32m    242\u001b[0m                 \u001b[0mnew_kwargs\u001b[0m\u001b[0;34m.\u001b[0m\u001b[0mappend\u001b[0m\u001b[0;34m(\u001b[0m\u001b[0;34m(\u001b[0m\u001b[0mname\u001b[0m\u001b[0;34m,\u001b[0m \u001b[0mvalue\u001b[0m\u001b[0;34m,\u001b[0m \u001b[0mdefault\u001b[0m\u001b[0;34m)\u001b[0m\u001b[0;34m)\u001b[0m\u001b[0;34m\u001b[0m\u001b[0;34m\u001b[0m\u001b[0m\n\u001b[1;32m    243\u001b[0m         \u001b[0;32mreturn\u001b[0m \u001b[0mnew_kwargs\u001b[0m\u001b[0;34m\u001b[0m\u001b[0;34m\u001b[0m\u001b[0m\n",
      "\u001b[0;31mValueError\u001b[0m: cannot find widget or abbreviation for argument: 'data'"
     ]
    }
   ],
   "source": [
    "# Create a Title for the Dashboard\n",
    "dashboard_title =\"# Real Estate Analysis of Toronto from 2001 to 2016\"\n",
    "\n",
    "# Define a welcome text\n",
    "dashboard_welcome =\"\"\"This dashboard presents a visual analysis of historical housevalues, dwelling types per neighbourhood and dwelling costs in Toronto, Ontario\n",
    "                  according to census data from 2001 to 2016. You can navigate through the tabs above to explore more details about the evolution of the real estate\n",
    "                  market across these 6 years.\n",
    "                \"\"\"\n",
    "\n",
    "# Create a tab layout for the dashboard\n",
    "\n",
    "welcome_plot = pn.Column(dashboard_title, dashboard_welcome, neighbourhood_map())\n",
    "\n",
    "\n",
    "# Dwelling type rows and column\n",
    "\n",
    "dwelling_type_row_1 = pn.Row(create_bar_chart(sum_dwellings_by_year.loc[2001], \"Dwelling Types in Toronto in 2001\", \"Dwelling Types\", \"Dwelling Type Units\", \"red\").opts(ylim=(0, 600000)),\n",
    "                             create_bar_chart(sum_dwellings_by_year.loc[2006], \"Dwelling Types in Toronto in 2006\", \"Dwelling Types\", \"Dwelling Type Units\", \"blue\").opts(ylim=(0, 600000)))\n",
    "dwelling_type_row_2 = pn.Row(create_bar_chart(sum_dwellings_by_year.loc[2011], \"Dwelling Types in Toronto in 2011\", \"Dwelling Types\", \"Dwelling Type Units\", \"green\").opts(ylim=(0, 600000)),\n",
    "                             create_bar_chart(sum_dwellings_by_year.loc[2016], \"Dwelling Types in Toronto in 2016\", \"Dwelling Types\", \"Dwelling Type Units\", \"cyan\").opts(ylim=(0, 600000)))\n",
    "dwelling_type_column = pn.Column(dwelling_type_row_1, dwelling_type_row_2)\n",
    "\n",
    "\n",
    "# Average values column\n",
    "average_value_row = pn.Row(create_line_chart(avg_owned_cost, \"Average Monthly Shelter Cost for Owned Dwellings in Toronto\", \"Year\", \"Avg Monthly Shelter Costs\", \"blue\").opts(fontsize={\"title\":11}),\n",
    "                           create_line_chart(avg_rented_cost, \"Average Monthly Shelter Cost for Owned Dwellings in Toronto\", \"Year\", \"Avg Monthly Shelter Costs\", \"green\").opts(fontsize={\"title\":11}))\n",
    "average_value_column = pn.Column(average_value_row, average_house_value())\n",
    "\n",
    "# Neighbourhood rows and columns\n",
    "by_neighbourhood_column = pn.Column(average_value_by_neighbourhood(), number_dwelling_types())\n",
    "by_neighbourhood_row = pn.Row(by_neighbourhood_column, average_house_value_snapshot())\n",
    "\n",
    "# Expensive neighbourhood row\n",
    "expensive_neighbourhood_row = pn.Row(top_most_expensive_neighbourhoods(), sunburst_cost_analysis())\n",
    "\n",
    "# Create the main dashboard\n",
    "dashboard_tabs = pn.Tabs(             \n",
    "                (\"Welcome\", welcome_plot),\n",
    "                (\"Yearly Market Analysis\", dwelling_type_column),\n",
    "                (\"Shelter Costs vs House Value\", average_value_column),\n",
    "                (\"Neighbourhood Analysis\", by_neighbourhood_row),\n",
    "                (\"Top Expensive Neighbourhoods\", expensive_neighbourhood_row)\n",
    ")"
   ]
  },
  {
   "cell_type": "markdown",
   "metadata": {},
   "source": [
    "## Serve the Panel Dashboard"
   ]
  },
  {
   "cell_type": "code",
   "execution_count": null,
   "metadata": {},
   "outputs": [],
   "source": [
    "dashboard.servable()"
   ]
  },
  {
   "cell_type": "markdown",
   "metadata": {},
   "source": [
    "# Debugging\n",
    "\n",
    "Note: Some of the Plotly express plots may not render in the notebook through the panel functions.\n",
    "\n",
    "However, you can test each plot by uncommenting the following code"
   ]
  },
  {
   "cell_type": "code",
   "execution_count": null,
   "metadata": {},
   "outputs": [],
   "source": [
    "# neighbourhood_map().show()"
   ]
  },
  {
   "cell_type": "code",
   "execution_count": null,
   "metadata": {},
   "outputs": [],
   "source": [
    "# create_bar_chart(data, title, xlabel, ylabel, color)\n",
    "\n",
    "# # Bar chart for 2001\n",
    "# create_bar_chart(df_dwelling_units.loc[2001], \"Dwelling Types in Toronto in 2001\", \"2001\", \"Dwelling Type Units\", \"red\")\n",
    "\n",
    "# # Bar chart for 2006\n",
    "# create_bar_chart(df_dwelling_units.loc[2006], \"Dwelling Types in Toronto in 2006\", \"2006\", \"Dwelling Type Units\", \"blue\")\n",
    "\n",
    "# # Bar chart for 2011\n",
    "# create_bar_chart(df_dwelling_units.loc[2011], \"Dwelling Types in Toronto in 2011\", \"2011\", \"Dwelling Type Units\", \"orange\")\n",
    "\n",
    "# # Bar chart for 2016\n",
    "# create_bar_chart(df_dwelling_units.loc[2016], \"Dwelling Types in Toronto in 2016\", \"2016\", \"Dwelling Type Units\", \"magenta\")"
   ]
  },
  {
   "cell_type": "code",
   "execution_count": null,
   "metadata": {},
   "outputs": [],
   "source": [
    "# create_line_chart(data, title, xlabel, ylabel, color)\n",
    "\n",
    "# # Line chart for owned dwellings\n",
    "# create_line_chart(df_avg_costs[\"shelter_costs_owned\"], \"Average Monthly Shelter Cost for Owned Dwellings in Toronto\", \"Year\", \"Avg Monthly Shelter Costs\", \"blue\")\n",
    "\n",
    "# # Line chart for rented dwellings\n",
    "# create_line_chart(df_avg_costs[\"shelter_costs_rented\"], \"Average Monthly Shelter Cost for Rented Dwellings in Toronto\", \"Year\", \"Avg Monthly Shelter Costs\", \"orange\")"
   ]
  },
  {
   "cell_type": "code",
   "execution_count": null,
   "metadata": {},
   "outputs": [],
   "source": [
    "# average_house_value()"
   ]
  },
  {
   "cell_type": "code",
   "execution_count": null,
   "metadata": {},
   "outputs": [],
   "source": [
    "# average_value_by_neighbourhood()"
   ]
  },
  {
   "cell_type": "code",
   "execution_count": null,
   "metadata": {},
   "outputs": [],
   "source": [
    "# number_dwelling_types()"
   ]
  },
  {
   "cell_type": "code",
   "execution_count": null,
   "metadata": {},
   "outputs": [],
   "source": [
    "# average_house_value_snapshot()"
   ]
  },
  {
   "cell_type": "code",
   "execution_count": null,
   "metadata": {},
   "outputs": [],
   "source": [
    "# top_most_expensive_neighbourhoods()"
   ]
  },
  {
   "cell_type": "code",
   "execution_count": null,
   "metadata": {},
   "outputs": [],
   "source": [
    "# sunburts_cost_analysis()"
   ]
  }
 ],
 "metadata": {
  "file_extension": ".py",
  "kernelspec": {
   "display_name": "Python [conda env:pyvizenv] *",
   "language": "python",
   "name": "conda-env-pyvizenv-py"
  },
  "language_info": {
   "codemirror_mode": {
    "name": "ipython",
    "version": 3
   },
   "file_extension": ".py",
   "mimetype": "text/x-python",
   "name": "python",
   "nbconvert_exporter": "python",
   "pygments_lexer": "ipython3",
   "version": "3.7.11"
  },
  "mimetype": "text/x-python",
  "name": "python",
  "npconvert_exporter": "python",
  "pygments_lexer": "ipython3",
  "version": 3
 },
 "nbformat": 4,
 "nbformat_minor": 4
}
